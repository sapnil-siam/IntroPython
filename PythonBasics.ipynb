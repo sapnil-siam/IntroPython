{
  "nbformat": 4,
  "nbformat_minor": 0,
  "metadata": {
    "colab": {
      "provenance": [],
      "authorship_tag": "ABX9TyNi7tIV1gTzNwW+18f+YTFl",
      "include_colab_link": true
    },
    "kernelspec": {
      "name": "python3",
      "display_name": "Python 3"
    },
    "language_info": {
      "name": "python"
    }
  },
  "cells": [
    {
      "cell_type": "markdown",
      "metadata": {
        "id": "view-in-github",
        "colab_type": "text"
      },
      "source": [
        "<a href=\"https://colab.research.google.com/github/sapnil-siam/IntroPython/blob/main/PythonBasics.ipynb\" target=\"_parent\"><img src=\"https://colab.research.google.com/assets/colab-badge.svg\" alt=\"Open In Colab\"/></a>"
      ]
    },
    {
      "cell_type": "code",
      "execution_count": null,
      "metadata": {
        "colab": {
          "base_uri": "https://localhost:8080/"
        },
        "id": "TBuOxL_f2xdO",
        "outputId": "c27f5826-6849-4b67-ae73-0ead758e893a"
      },
      "outputs": [
        {
          "output_type": "stream",
          "name": "stdout",
          "text": [
            "Hello World\n"
          ]
        }
      ],
      "source": [
        "print('Hello World')"
      ]
    },
    {
      "cell_type": "code",
      "source": [],
      "metadata": {
        "id": "gUBcf0uq9T-P"
      },
      "execution_count": null,
      "outputs": []
    },
    {
      "cell_type": "markdown",
      "source": [
        "### This Notebook Shows Python Basics\n",
        "\n",
        "Colab & Jupyter provides the ability to make **notebooks**. Notebooks allow you to create *text* and &code* cells. Text cells support MarkDown. Code cells require python.\n",
        " **Python Datatypes**\n",
        "* int\n",
        "* str\n",
        "* float\n",
        "* bool"
      ],
      "metadata": {
        "id": "oYnO2ZH296gU"
      }
    },
    {
      "cell_type": "code",
      "source": [
        "x = 5           # int\n",
        "s = \"hello\"     # str\n",
        "temp = 98.6     # float\n",
        "iAmSam = False  # bool"
      ],
      "metadata": {
        "id": "FzOjSedzNB2w"
      },
      "execution_count": null,
      "outputs": []
    },
    {
      "cell_type": "markdown",
      "source": [
        "**Python Collection Types**\n",
        "\n",
        "* list - ordered, indexed, like an array, mutable\n",
        "* tuple - immutable list\n",
        "* dict - a hashtable, a set of key, value data pairs\n"
      ],
      "metadata": {
        "id": "V81YO3oKNe5S"
      }
    },
    {
      "cell_type": "code",
      "source": [
        "my -list = ['I', 'love', 'CIS']\n",
        "my_list[2] = [3, 'hello', 'frogs', 4.3, True]\n",
        "my_tuple = ('Purple', 'Eagles')\n",
        "\n",
        "example_dict = {'triangle':3, 'square':4, 'septagon':7}\n",
        "print(example_dict['septagon'])"
      ],
      "metadata": {
        "id": "IqG-O1_WN-Ep"
      },
      "execution_count": null,
      "outputs": []
    },
    {
      "cell_type": "markdown",
      "source": [
        "### AI AGENT NOTES\n",
        "\n",
        "### **The representation problem** - how to represent a problem in a programming language.\n",
        "\n",
        "How do we code states and actions of a real world problem in a programming language.\n",
        "\n",
        "**PEAS**\n",
        "* Performance measure\n",
        "* Environment\n",
        "  * includes **state** and\n",
        "  * rules for how **actions** update the state\n",
        "* Actions\n",
        "* Sensors\n",
        "\n",
        "\n",
        "\n",
        "continuous vs. discreet\n",
        "\n",
        "\n",
        "### Example: Farmer, Wolf, Sheep, Oats, River problem"
      ],
      "metadata": {
        "id": "pHA5IlROB7oR"
      }
    },
    {
      "cell_type": "code",
      "source": [
        "# STATE\n",
        "farmer_is_on_top = True\n",
        "wolf_is_on_top = True\n",
        "sheep_is_on_top = True\n",
        "oats_is_on_top = True\n",
        "\n",
        "oats_is_intact = True\n",
        "sheep_is_alive = True\n",
        "\n",
        "def print_state():\n",
        "  \"\"\" Prints all the parties on top of river bank, followed by =======,\n",
        "  then all parties below the river bank \"\"\"\n",
        "  # TODO\n",
        "  print('==================')\n",
        "  # TODO\n",
        "\n",
        "\n",
        "# ACTIONS\n",
        "\n",
        "def move(thing):\n",
        "  \"\"\"Updates STATE variables given that the farmer moves thing.\n",
        "  thing must be one of 'wolf', 'sheep', 'oats' \"\"\"\n",
        "  # TODO"
      ],
      "metadata": {
        "id": "2lCkQTEOCX2O"
      },
      "execution_count": null,
      "outputs": []
    }
  ]
}