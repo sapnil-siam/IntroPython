{
  "nbformat": 4,
  "nbformat_minor": 0,
  "metadata": {
    "colab": {
      "provenance": [],
      "authorship_tag": "ABX9TyOqO899ZZFsiPAC/QxGiVfN",
      "include_colab_link": true
    },
    "kernelspec": {
      "name": "python3",
      "display_name": "Python 3"
    },
    "language_info": {
      "name": "python"
    }
  },
  "cells": [
    {
      "cell_type": "markdown",
      "metadata": {
        "id": "view-in-github",
        "colab_type": "text"
      },
      "source": [
        "<a href=\"https://colab.research.google.com/github/sapnil-siam/IntroPython/blob/main/PythonBasics.ipynb\" target=\"_parent\"><img src=\"https://colab.research.google.com/assets/colab-badge.svg\" alt=\"Open In Colab\"/></a>"
      ]
    },
    {
      "cell_type": "code",
      "execution_count": 1,
      "metadata": {
        "colab": {
          "base_uri": "https://localhost:8080/"
        },
        "id": "TBuOxL_f2xdO",
        "outputId": "c27f5826-6849-4b67-ae73-0ead758e893a"
      },
      "outputs": [
        {
          "output_type": "stream",
          "name": "stdout",
          "text": [
            "Hello World\n"
          ]
        }
      ],
      "source": [
        "print('Hello World')"
      ]
    },
    {
      "cell_type": "code",
      "source": [],
      "metadata": {
        "id": "gUBcf0uq9T-P"
      },
      "execution_count": null,
      "outputs": []
    },
    {
      "cell_type": "markdown",
      "source": [
        "### This Notebook Shows Python Basics\n",
        "\n",
        "Colab & Jupyter provides the ability to make **notebooks**. Notebooks allow you to create *text* and &code* cells. Text cells support MarkDown. Code cells require python.\n",
        " **Python Datatypes**\n",
        "* int\n",
        "* str\n",
        "* float\n",
        "* bool"
      ],
      "metadata": {
        "id": "oYnO2ZH296gU"
      }
    },
    {
      "cell_type": "markdown",
      "source": [
        "### AI AGENT NOTES\n",
        "\n",
        "**the representation problem** - how to represent a problem in a programming language."
      ],
      "metadata": {
        "id": "pHA5IlROB7oR"
      }
    },
    {
      "cell_type": "code",
      "source": [
        "farmer_on_top ="
      ],
      "metadata": {
        "id": "2lCkQTEOCX2O"
      },
      "execution_count": null,
      "outputs": []
    }
  ]
}